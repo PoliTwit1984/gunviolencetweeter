{
 "cells": [
  {
   "cell_type": "code",
   "execution_count": 1,
   "metadata": {},
   "outputs": [],
   "source": [
    "import pandas as pd\n",
    "import numpy as np\n",
    "import matplotlib.pyplot as plt\n",
    "import plotly.express as px\n",
    "import plotly.graph_objects as go\n",
    "from plotly.subplots import make_subplots\n",
    "from urllib.request import urlopen\n",
    "import json\n",
    "import plotly.express as px\n",
    "\n",
    "df = pd.read_csv(\"2020election.csv\")\n",
    "df['fips'] = ''\n",
    "df['county_fips'] = df['county_fips'].astype(str)\n",
    "m = df['county_fips'].str.len().max()\n",
    "df['fips'] = df['county_fips'].str.rjust(m, fillchar='0')\n",
    "\n",
    "with urlopen('https://raw.githubusercontent.com/plotly/datasets/master/geojson-counties-fips.json') as response:\n",
    "    counties = json.load(response)\n",
    "    \n",
    "rank_fig = px.choropleth(df, geojson=counties, locations='fips', color='per_gop',\n",
    "        color_continuous_scale=\"rdbu\",\n",
    "        range_color=(1,10),\n",
    "        scope=\"usa\")\n",
    "\n",
    "rank_fig.update_layout(margin={\"r\":0,\"t\":0,\"l\":0,\"b\":0})\n",
    "\n",
    "rank_fig.show()\n",
    "\n"
   ]
  }
 ],
 "metadata": {
  "kernelspec": {
   "display_name": "Python 3.9.10 ('gunviolencetweeter': venv)",
   "language": "python",
   "name": "python3"
  },
  "language_info": {
   "codemirror_mode": {
    "name": "ipython",
    "version": 3
   },
   "file_extension": ".py",
   "mimetype": "text/x-python",
   "name": "python",
   "nbconvert_exporter": "python",
   "pygments_lexer": "ipython3",
   "version": "3.9.10"
  },
  "orig_nbformat": 4,
  "vscode": {
   "interpreter": {
    "hash": "75f2138505861be684b106c49405a8fed681e5bc47bee0a141cbc53e988844d3"
   }
  }
 },
 "nbformat": 4,
 "nbformat_minor": 2
}
